{
 "cells": [
  {
   "cell_type": "code",
   "execution_count": 7,
   "id": "c2d1385d",
   "metadata": {},
   "outputs": [],
   "source": [
    "import random\n",
    "import smtplib\n",
    "from email.mime.text import MIMEText\n",
    "from email.mime.multipart import MIMEMultipart\n",
    "import tkinter as tk\n",
    "from tkinter import messagebox\n"
   ]
  },
  {
   "cell_type": "code",
   "execution_count": 8,
   "id": "cef6d80b",
   "metadata": {},
   "outputs": [],
   "source": [
    "# Replace with your Gmail credentials\n",
    "SENDER_EMAIL = \"ankitavats068@gmail.com\"  # Your Gmail email\n",
    "SENDER_PASSWORD = \"cwkkejzctxmd dsvs\"  # Your Gmail password (use secure method)\n",
    "\n",
    "# Gmail SMTP server details\n",
    "SMTP_SERVER = \"smtp.gmail.com\"\n",
    "SMTP_PORT = 587\n"
   ]
  },
  {
   "cell_type": "code",
   "execution_count": 9,
   "id": "52d4ae3c",
   "metadata": {},
   "outputs": [],
   "source": [
    "def generate_otp():\n",
    "    # Generate a 6-digit OTP\n",
    "    return random.randint(100000, 999999)\n"
   ]
  },
  {
   "cell_type": "code",
   "execution_count": 14,
   "id": "6394d4d4",
   "metadata": {},
   "outputs": [
    {
     "ename": "SyntaxError",
     "evalue": "unterminated string literal (detected at line 23) (2829099701.py, line 23)",
     "output_type": "error",
     "traceback": [
      "\u001b[1;36m  Cell \u001b[1;32mIn[14], line 23\u001b[1;36m\u001b[0m\n\u001b[1;33m    \"\"\": {otp}\"\u001b[0m\n\u001b[1;37m              ^\u001b[0m\n\u001b[1;31mSyntaxError\u001b[0m\u001b[1;31m:\u001b[0m unterminated string literal (detected at line 23)\n"
     ]
    }
   ],
   "source": [
    "def send_otp_email(email, otp):\n",
    "    try:\n",
    "        # Establish a connection to the SMTP server\n",
    "        server = smtplib.SMTP(SMTP_SERVER, SMTP_PORT)\n",
    "        server.starttls()  # Upgrade connection to secure TLS\n",
    "\n",
    "        # Log in to the Gmail account\n",
    "        server.login(SENDER_EMAIL, SENDER_PASSWORD)\n",
    "\n",
    "        # Create the email message\n",
    "        subject = \"OTP Verification\"\n",
    "        body = f\"Your OTP for verification is: {otp}\"\n",
    "        msg = MIMEMultipart()\n",
    "        msg['From'] = SENDER_EMAIL\n",
    "        msg['To'] = email\n",
    "        msg['Subject'] = subject\n",
    "        msg.attach(MIMEText(body, 'plain'))\n",
    "\n",
    "        # Send the email\n",
    "        server.send_message(msg)\n",
    "        messagebox.showinfo(\"Success\", \"OTP sent successfully.\")\n",
    "\n",
    "    except Exception as e:\n",
    "        # Handle any exceptions that occur\n",
    "        messagebox.showerror(\"Error\", f\"Error sending OTP email: {e}\")\n",
    "\n",
    "    finally:\n",
    "        # Close the connection to the server\n",
    "        server.quit()\n"
   ]
  },
  {
   "cell_type": "code",
   "execution_count": 11,
   "id": "efb67c90",
   "metadata": {},
   "outputs": [],
   "source": [
    "def verify_otp():\n",
    "    user_otp = otp_entry.get()\n",
    "    \n",
    "    if user_otp.isdigit() and len(user_otp) == 6:\n",
    "        if int(user_otp) == otp:\n",
    "            messagebox.showinfo(\"Success\", \"OTP verification successful.\")\n",
    "        else:\n",
    "            messagebox.showerror(\"Error\", \"OTP verification failed. Please try again.\")\n",
    "    else:\n",
    "        messagebox.showerror(\"Error\", \"Invalid OTP. Please enter a 6-digit code.\")\n"
   ]
  },
  {
   "cell_type": "code",
   "execution_count": 12,
   "id": "50c0b1aa",
   "metadata": {},
   "outputs": [],
   "source": [
    "def request_otp():\n",
    "    email = email_entry.get()\n",
    "    \n",
    "    if not email:\n",
    "        messagebox.showerror(\"Error\", \"Please enter an email address.\")\n",
    "        return\n",
    "    \n",
    "    global otp\n",
    "    otp = generate_otp()  # Generate a new OTP\n",
    "    send_otp_email(email, otp)\n"
   ]
  },
  {
   "cell_type": "code",
   "execution_count": 13,
   "id": "b43160ab",
   "metadata": {},
   "outputs": [],
   "source": [
    "# Create Tkinter GUI\n",
    "root = tk.Tk()\n",
    "root.title(\"OTP Verification\")\n",
    "root.geometry(\"400x200\")\n",
    "\n",
    "# Email entry\n",
    "email_label = tk.Label(root, text=\"Enter your email address:\")\n",
    "email_label.grid(row=0, column=0, padx=10, pady=10)\n",
    "email_entry = tk.Entry(root)\n",
    "email_entry.grid(row=0, column=1, padx=10, pady=10)\n",
    "\n",
    "# OTP request button\n",
    "send_button = tk.Button(root, text=\"Send OTP\", command=request_otp)\n",
    "send_button.grid(row=0, column=2, padx=10, pady=10)\n",
    "\n",
    "# OTP entry\n",
    "otp_label = tk.Label(root, text=\"Enter the OTP received in your email:\")\n",
    "otp_label.grid(row=1, column=0, padx=10, pady=10)\n",
    "otp_entry = tk.Entry(root)\n",
    "otp_entry.grid(row=1, column=1, padx=10, pady=10)\n",
    "\n",
    "# Verify button\n",
    "verify_button = tk.Button(root, text=\"Verify OTP\", command=verify_otp)\n",
    "verify_button.grid(row=1, column=2, padx=10, pady=10)\n",
    "\n",
    "# Run the Tkinter event loop\n",
    "root.mainloop()\n"
   ]
  },
  {
   "cell_type": "code",
   "execution_count": null,
   "id": "26885fd3",
   "metadata": {},
   "outputs": [],
   "source": []
  }
 ],
 "metadata": {
  "kernelspec": {
   "display_name": "Python 3 (ipykernel)",
   "language": "python",
   "name": "python3"
  },
  "language_info": {
   "codemirror_mode": {
    "name": "ipython",
    "version": 3
   },
   "file_extension": ".py",
   "mimetype": "text/x-python",
   "name": "python",
   "nbconvert_exporter": "python",
   "pygments_lexer": "ipython3",
   "version": "3.11.4"
  }
 },
 "nbformat": 4,
 "nbformat_minor": 5
}
